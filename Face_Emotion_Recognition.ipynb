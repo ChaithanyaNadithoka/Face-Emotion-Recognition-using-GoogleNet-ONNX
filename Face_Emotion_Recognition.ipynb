{
  "nbformat": 4,
  "nbformat_minor": 0,
  "metadata": {
    "colab": {
      "provenance": [],
      "include_colab_link": true
    },
    "kernelspec": {
      "name": "python3",
      "display_name": "Python 3"
    },
    "language_info": {
      "name": "python"
    }
  },
  "cells": [
    {
      "cell_type": "markdown",
      "metadata": {
        "id": "view-in-github",
        "colab_type": "text"
      },
      "source": [
        "<a href=\"https://colab.research.google.com/github/ChaithanyaNadithoka/Face-Emotion-Recognition-using-GoogleNet-ONNX/blob/main/Face_Emotion_Recognition.ipynb\" target=\"_parent\"><img src=\"https://colab.research.google.com/assets/colab-badge.svg\" alt=\"Open In Colab\"/></a>"
      ]
    },
    {
      "cell_type": "code",
      "source": [
        "!pip install onnxruntime opencv-python-headless pillow numpy\n"
      ],
      "metadata": {
        "colab": {
          "base_uri": "https://localhost:8080/"
        },
        "id": "AsNl9e3WaolD",
        "outputId": "5c7d4c22-c067-42ea-a8ca-0c1e04964d71"
      },
      "execution_count": null,
      "outputs": [
        {
          "output_type": "stream",
          "name": "stdout",
          "text": [
            "Collecting onnxruntime\n",
            "  Downloading onnxruntime-1.20.1-cp310-cp310-manylinux_2_27_x86_64.manylinux_2_28_x86_64.whl.metadata (4.5 kB)\n",
            "Requirement already satisfied: opencv-python-headless in /usr/local/lib/python3.10/dist-packages (4.10.0.84)\n",
            "Requirement already satisfied: pillow in /usr/local/lib/python3.10/dist-packages (11.0.0)\n",
            "Requirement already satisfied: numpy in /usr/local/lib/python3.10/dist-packages (1.26.4)\n",
            "Collecting coloredlogs (from onnxruntime)\n",
            "  Downloading coloredlogs-15.0.1-py2.py3-none-any.whl.metadata (12 kB)\n",
            "Requirement already satisfied: flatbuffers in /usr/local/lib/python3.10/dist-packages (from onnxruntime) (24.3.25)\n",
            "Requirement already satisfied: packaging in /usr/local/lib/python3.10/dist-packages (from onnxruntime) (24.2)\n",
            "Requirement already satisfied: protobuf in /usr/local/lib/python3.10/dist-packages (from onnxruntime) (4.25.5)\n",
            "Requirement already satisfied: sympy in /usr/local/lib/python3.10/dist-packages (from onnxruntime) (1.13.1)\n",
            "Collecting humanfriendly>=9.1 (from coloredlogs->onnxruntime)\n",
            "  Downloading humanfriendly-10.0-py2.py3-none-any.whl.metadata (9.2 kB)\n",
            "Requirement already satisfied: mpmath<1.4,>=1.1.0 in /usr/local/lib/python3.10/dist-packages (from sympy->onnxruntime) (1.3.0)\n",
            "Downloading onnxruntime-1.20.1-cp310-cp310-manylinux_2_27_x86_64.manylinux_2_28_x86_64.whl (13.3 MB)\n",
            "\u001b[2K   \u001b[90m━━━━━━━━━━━━━━━━━━━━━━━━━━━━━━━━━━━━━━━━\u001b[0m \u001b[32m13.3/13.3 MB\u001b[0m \u001b[31m66.7 MB/s\u001b[0m eta \u001b[36m0:00:00\u001b[0m\n",
            "\u001b[?25hDownloading coloredlogs-15.0.1-py2.py3-none-any.whl (46 kB)\n",
            "\u001b[2K   \u001b[90m━━━━━━━━━━━━━━━━━━━━━━━━━━━━━━━━━━━━━━━━\u001b[0m \u001b[32m46.0/46.0 kB\u001b[0m \u001b[31m3.1 MB/s\u001b[0m eta \u001b[36m0:00:00\u001b[0m\n",
            "\u001b[?25hDownloading humanfriendly-10.0-py2.py3-none-any.whl (86 kB)\n",
            "\u001b[2K   \u001b[90m━━━━━━━━━━━━━━━━━━━━━━━━━━━━━━━━━━━━━━━━\u001b[0m \u001b[32m86.8/86.8 kB\u001b[0m \u001b[31m5.8 MB/s\u001b[0m eta \u001b[36m0:00:00\u001b[0m\n",
            "\u001b[?25hInstalling collected packages: humanfriendly, coloredlogs, onnxruntime\n",
            "Successfully installed coloredlogs-15.0.1 humanfriendly-10.0 onnxruntime-1.20.1\n"
          ]
        }
      ]
    },
    {
      "cell_type": "code",
      "execution_count": null,
      "metadata": {
        "colab": {
          "base_uri": "https://localhost:8080/",
          "height": 460
        },
        "id": "zxPJ-oN0JEOz",
        "outputId": "517466f5-7d8a-4653-afd2-708ae89ad4d2"
      },
      "outputs": [
        {
          "output_type": "stream",
          "name": "stdout",
          "text": [
            "Model Input Shape: ['BatchSize', 3, 224, 224]\n",
            "Detected Faces: [[ 4  4 39 39]]\n"
          ]
        },
        {
          "output_type": "display_data",
          "data": {
            "text/plain": [
              "<Figure size 640x480 with 1 Axes>"
            ],
            "image/png": "[encoded data removed]"
          },
          "metadata": {}
        },
        {
          "output_type": "stream",
          "name": "stdout",
          "text": [
            "Recognized Emotions: ['Disgust']\n"
          ]
        }
      ],
      "source": [
        "import onnxruntime\n",
        "import numpy as np\n",
        "from PIL import Image\n",
        "from io import BytesIO\n",
        "import cv2\n",
        "import matplotlib.pyplot as plt\n",
        "\n",
        "def recognize_emotion(photo_content):\n",
        "    # Path to your ONNX model\n",
        "    onnx_model_path = \"model2.onnx\"  # Ensure this file is uploaded to the same directory\n",
        "\n",
        "    # Load the ONNX model\n",
        "    session = onnxruntime.InferenceSession(onnx_model_path)\n",
        "\n",
        "    # Get the input shape dynamically\n",
        "    input_name = session.get_inputs()[0].name\n",
        "    input_shape = session.get_inputs()[0].shape  # (BatchSize, Channels, Height, Width)\n",
        "    print(\"Model Input Shape:\", input_shape)\n",
        "\n",
        "    # Load the input image\n",
        "    original_image = Image.open(BytesIO(photo_content)).convert(\"RGB\")  # Ensure it's in RGB mode\n",
        "    input_image = np.array(original_image)\n",
        "\n",
        "    # Detect faces in the original image\n",
        "    faces = detect_faces(input_image)\n",
        "\n",
        "    # Variables to store emotion predictions for each face\n",
        "    face_emotions = []\n",
        "\n",
        "    # If faces are detected, proceed with emotion recognition for each face\n",
        "    if len(faces) > 0:\n",
        "        for (x, y, w, h) in faces:\n",
        "            # Draw a rectangle around the detected face\n",
        "            cv2.rectangle(input_image, (x, y), (x + w, y + h), (255, 0, 0), 2)\n",
        "\n",
        "            # Crop the detected face region\n",
        "            face_region = input_image[y:y + h, x:x + w]\n",
        "\n",
        "            # Resize the face to the expected input shape (Height, Width)\n",
        "            resized_face = cv2.resize(face_region, (224, 224))\n",
        "\n",
        "            # Ensure the face region has 3 channels (convert grayscale to RGB if needed)\n",
        "            if len(resized_face.shape) == 2:  # Grayscale image\n",
        "                resized_face = cv2.cvtColor(resized_face, cv2.COLOR_GRAY2RGB)\n",
        "            elif resized_face.shape[2] != 3:  # If not RGB\n",
        "                resized_face = resized_face[:, :, :3]\n",
        "\n",
        "            # Convert the resized face to the format (BatchSize, Channels, Height, Width)\n",
        "            input_array = np.expand_dims(resized_face, axis=0)  # Add BatchSize dimension\n",
        "            input_array = np.transpose(input_array, (0, 3, 1, 2))  # Change to (N, C, H, W)\n",
        "\n",
        "            # Perform emotion recognition for the resized face\n",
        "            result = session.run([], {input_name: input_array.astype(np.float32)})\n",
        "\n",
        "            # Process and store the emotion prediction for the current face\n",
        "            face_emotion = process_output(result[0])\n",
        "            face_emotions.append(face_emotion)\n",
        "\n",
        "            # Print the emotion label near the rectangle\n",
        "            cv2.putText(input_image, face_emotion, (x, y - 10), cv2.FONT_HERSHEY_SIMPLEX, 1, (0, 66, 247), 2)\n",
        "\n",
        "        # Return the image with rectangles and emotions\n",
        "        return input_image, face_emotions\n",
        "\n",
        "    else:\n",
        "        print(\"No faces detected.\")\n",
        "        return input_image, []\n",
        "\n",
        "def process_output(output_array):\n",
        "    # Assuming output_array is an array of probabilities for each class\n",
        "    emotion_labels = ['Anger', 'Contempt', 'Disgust', 'Fear', 'Happy', 'Sad', 'Surprise']\n",
        "    max_prob_index = np.argmax(output_array)\n",
        "    recognized_label = emotion_labels[max_prob_index]\n",
        "    return recognized_label\n",
        "\n",
        "def detect_faces(image):\n",
        "    # Load OpenCV's pre-trained Haar Cascade face detector\n",
        "    face_cascade = cv2.CascadeClassifier(cv2.data.haarcascades + 'haarcascade_frontalface_default.xml')\n",
        "\n",
        "    # Convert to grayscale for face detection\n",
        "    gray_image = cv2.cvtColor(image, cv2.COLOR_RGB2GRAY)\n",
        "\n",
        "    # Detect faces\n",
        "    faces = face_cascade.detectMultiScale(gray_image, scaleFactor=1.1, minNeighbors=5, minSize=(30, 30))\n",
        "    print(\"Detected Faces:\", faces)\n",
        "    return faces\n",
        "\n",
        "# Load the input image (anger.png)\n",
        "with open(\"disgust.png\", \"rb\") as img_file:\n",
        "    photo_content = img_file.read()\n",
        "\n",
        "# Run the recognition\n",
        "output_image, emotions = recognize_emotion(photo_content)\n",
        "\n",
        "# Display the processed image with rectangles and labels\n",
        "output_image = Image.fromarray(cv2.cvtColor(output_image, cv2.COLOR_BGR2RGB))\n",
        "\n",
        "# Show the image with emotions\n",
        "plt.imshow(output_image)\n",
        "plt.axis(\"off\")\n",
        "plt.show()\n",
        "\n",
        "# Print the recognized emotions\n",
        "print(\"Recognized Emotions:\", emotions)\n"
      ]
    },
    {
      "cell_type": "code",
      "source": [],
      "metadata": {
        "id": "WHFx8XaPEXPl"
      },
      "execution_count": null,
      "outputs": []
    }
  ]
}